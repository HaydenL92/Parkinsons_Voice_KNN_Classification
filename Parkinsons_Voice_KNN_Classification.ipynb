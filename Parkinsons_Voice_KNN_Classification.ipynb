{
 "cells": [
  {
   "cell_type": "code",
   "execution_count": 3,
   "id": "0cf0081d-d9a8-4a6a-bec3-29cb57df3aa5",
   "metadata": {},
   "outputs": [
    {
     "name": "stdout",
     "output_type": "stream",
     "text": [
      "Performance before optimization:\n",
      "[[ 5  2]\n",
      " [ 0 32]]\n",
      "              precision    recall  f1-score   support\n",
      "\n",
      "           0       1.00      0.71      0.83         7\n",
      "           1       0.94      1.00      0.97        32\n",
      "\n",
      "    accuracy                           0.95        39\n",
      "   macro avg       0.97      0.86      0.90        39\n",
      "weighted avg       0.95      0.95      0.95        39\n",
      "\n",
      "Best k value: 1\n",
      "Performance after optimization:\n",
      "[[ 7  0]\n",
      " [ 1 31]]\n",
      "              precision    recall  f1-score   support\n",
      "\n",
      "           0       0.88      1.00      0.93         7\n",
      "           1       1.00      0.97      0.98        32\n",
      "\n",
      "    accuracy                           0.97        39\n",
      "   macro avg       0.94      0.98      0.96        39\n",
      "weighted avg       0.98      0.97      0.98        39\n",
      "\n"
     ]
    }
   ],
   "source": [
    "import pandas as pd\n",
    "from sklearn.model_selection import train_test_split\n",
    "from sklearn.preprocessing import StandardScaler\n",
    "from sklearn.neighbors import KNeighborsClassifier\n",
    "from sklearn.metrics import confusion_matrix, classification_report\n",
    "from sklearn.model_selection import GridSearchCV\n",
    "\n",
    "# Load the dataset\n",
    "file_path = 'DB_Voice_Features.csv'\n",
    "data = pd.read_csv(file_path)\n",
    "\n",
    "# Separate features and labels\n",
    "X = data.drop(['name', 'status'], axis=1)\n",
    "y = data['status']\n",
    "\n",
    "# Split the data into training and testing sets\n",
    "X_train, X_test, y_train, y_test = train_test_split(X, y, test_size=0.2, random_state=42)\n",
    "\n",
    "# Standardize the features for k-NN\n",
    "scaler = StandardScaler()\n",
    "X_train_scaled = scaler.fit_transform(X_train)\n",
    "X_test_scaled = scaler.transform(X_test)\n",
    "\n",
    "# Part (a): Apply k-NN without optimization\n",
    "knn = KNeighborsClassifier(n_neighbors=5)  # Starting with k=5\n",
    "knn.fit(X_train_scaled, y_train)\n",
    "y_pred = knn.predict(X_test_scaled)\n",
    "\n",
    "# Evaluate performance\n",
    "print(\"Performance before optimization:\")\n",
    "print(confusion_matrix(y_test, y_pred))\n",
    "print(classification_report(y_test, y_pred))\n",
    "\n",
    "# Part (b): Hyperparameter tuning using GridSearchCV\n",
    "param_grid = {'n_neighbors': range(1, 31)}\n",
    "grid_search = GridSearchCV(KNeighborsClassifier(), param_grid, cv=5)\n",
    "grid_search.fit(X_train_scaled, y_train)\n",
    "\n",
    "# Best k value after optimization\n",
    "print(f\"Best k value: {grid_search.best_params_['n_neighbors']}\")\n",
    "\n",
    "# Re-train k-NN with the best parameter\n",
    "knn_optimized = grid_search.best_estimator_\n",
    "y_pred_optimized = knn_optimized.predict(X_test_scaled)\n",
    "\n",
    "# Part (c): Evaluate performance after optimization\n",
    "print(\"Performance after optimization:\")\n",
    "print(confusion_matrix(y_test, y_pred_optimized))\n",
    "print(classification_report(y_test, y_pred_optimized))\n"
   ]
  },
  {
   "cell_type": "code",
   "execution_count": null,
   "id": "71f73423-0cda-42d1-b510-8c6c38f5df32",
   "metadata": {},
   "outputs": [],
   "source": []
  }
 ],
 "metadata": {
  "kernelspec": {
   "display_name": "Python 3 (ipykernel)",
   "language": "python",
   "name": "python3"
  },
  "language_info": {
   "codemirror_mode": {
    "name": "ipython",
    "version": 3
   },
   "file_extension": ".py",
   "mimetype": "text/x-python",
   "name": "python",
   "nbconvert_exporter": "python",
   "pygments_lexer": "ipython3",
   "version": "3.12.4"
  }
 },
 "nbformat": 4,
 "nbformat_minor": 5
}
